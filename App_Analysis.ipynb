{
 "cells": [
  {
   "cell_type": "markdown",
   "metadata": {
    "collapsed": true
   },
   "source": [
    "# Analysis of Successful Apps for Google Play and App Store\n",
    "\n",
    "Since the inception of the smart phone, apps have become common place for users. Apps of all types exist from games to utilities such as alarm clocks and even many banking and retail apps are used daily. Understanding what makes an app attractive to users is key in order for companies to turn a profit from development of an app.\n",
    "\n",
    "The goal of this project is to understand types of apps that are likely to be attractive to users. These findings will assist developers to create more profitable apps."
   ]
  },
  {
   "cell_type": "markdown",
   "metadata": {},
   "source": [
    "---"
   ]
  },
  {
   "cell_type": "markdown",
   "metadata": {},
   "source": [
    "## Data Import\n",
    "\n",
    "Attaining data on the millions of apps available on each marketplace is not feasible. Therefore we will use a sample set from each marketplace. Below is basic information about each dataset:\n",
    "\n",
    "**Google Play dataset:**\n",
    "Data for about 10,000 Android apps collected in August 2018.\n",
    "\n",
    "**App Store dataset:**\n",
    "Data for about 7,000 iOS apps collected July 2017\n",
    "\n",
    "The data is available in CSV format. We can import the datasets using the functions from the csv library:"
   ]
  },
  {
   "cell_type": "code",
   "execution_count": 1,
   "metadata": {},
   "outputs": [],
   "source": [
    "from csv import reader\n",
    "\n",
    "# Google Play Data #\n",
    "open_file = open('googleplaystore.csv', encoding = 'utf8')\n",
    "read_file = reader(open_file)\n",
    "android = list(read_file)\n",
    "\n",
    "# App Store Data #\n",
    "open_file = open('AppleStore.csv', encoding = 'utf8')\n",
    "read_file = reader(open_file)\n",
    "appStore = list(read_file)"
   ]
  },
  {
   "cell_type": "markdown",
   "metadata": {},
   "source": [
    "To get a better understanding of the data, we'll create and use a function called `explore_data()`. This function will print a specified number of rows from a dataset. It will also show the total number of rows and columns if the `rows_and_columns` parameter is set to `True`."
   ]
  },
  {
   "cell_type": "code",
   "execution_count": 2,
   "metadata": {},
   "outputs": [],
   "source": [
    "def explore_data(dataset, start, end, rows_and_columns=False):\n",
    "    dataset_slice = dataset[start:end]    \n",
    "    for row in dataset_slice:\n",
    "        print(row)\n",
    "        print('\\n') # adds a new (empty) line after each row\n",
    "\n",
    "    if rows_and_columns:\n",
    "        print('Number of rows:', len(dataset))\n",
    "        print('Number of columns:', len(dataset[0]))"
   ]
  },
  {
   "cell_type": "markdown",
   "metadata": {},
   "source": [
    "Now let's explore the first few lines of data. We'll also print the column headers to help identify any fields that will be useful to our analysis."
   ]
  },
  {
   "cell_type": "code",
   "execution_count": 3,
   "metadata": {},
   "outputs": [
    {
     "name": "stdout",
     "output_type": "stream",
     "text": [
      "['App', 'Category', 'Rating', 'Reviews', 'Size', 'Installs', 'Type', 'Price', 'Content Rating', 'Genres', 'Last Updated', 'Current Ver', 'Android Ver'] \n",
      "\n",
      "['Photo Editor & Candy Camera & Grid & ScrapBook', 'ART_AND_DESIGN', '4.1', '159', '19M', '10,000+', 'Free', '0', 'Everyone', 'Art & Design', 'January 7, 2018', '1.0.0', '4.0.3 and up']\n",
      "\n",
      "\n",
      "['Coloring book moana', 'ART_AND_DESIGN', '3.9', '967', '14M', '500,000+', 'Free', '0', 'Everyone', 'Art & Design;Pretend Play', 'January 15, 2018', '2.0.0', '4.0.3 and up']\n",
      "\n",
      "\n",
      "['U Launcher Lite – FREE Live Cool Themes, Hide Apps', 'ART_AND_DESIGN', '4.7', '87510', '8.7M', '5,000,000+', 'Free', '0', 'Everyone', 'Art & Design', 'August 1, 2018', '1.2.4', '4.0.3 and up']\n",
      "\n",
      "\n",
      "['Sketch - Draw & Paint', 'ART_AND_DESIGN', '4.5', '215644', '25M', '50,000,000+', 'Free', '0', 'Teen', 'Art & Design', 'June 8, 2018', 'Varies with device', '4.2 and up']\n",
      "\n",
      "\n",
      "Number of rows: 10842\n",
      "Number of columns: 13\n"
     ]
    }
   ],
   "source": [
    "print(android[0],'\\n')\n",
    "explore_data(android, 1, 5, rows_and_columns=True)"
   ]
  },
  {
   "cell_type": "code",
   "execution_count": 4,
   "metadata": {},
   "outputs": [
    {
     "name": "stdout",
     "output_type": "stream",
     "text": [
      "['', 'id', 'track_name', 'size_bytes', 'currency', 'price', 'rating_count_tot', 'rating_count_ver', 'user_rating', 'user_rating_ver', 'ver', 'cont_rating', 'prime_genre', 'sup_devices.num', 'ipadSc_urls.num', 'lang.num', 'vpp_lic'] \n",
      "\n",
      "['1', '281656475', 'PAC-MAN Premium', '100788224', 'USD', '3.99', '21292', '26', '4', '4.5', '6.3.5', '4+', 'Games', '38', '5', '10', '1']\n",
      "\n",
      "\n",
      "['2', '281796108', 'Evernote - stay organized', '158578688', 'USD', '0', '161065', '26', '4', '3.5', '8.2.2', '4+', 'Productivity', '37', '5', '23', '1']\n",
      "\n",
      "\n",
      "['3', '281940292', 'WeatherBug - Local Weather, Radar, Maps, Alerts', '100524032', 'USD', '0', '188583', '2822', '3.5', '4.5', '5.0.0', '4+', 'Weather', '37', '5', '3', '1']\n",
      "\n",
      "\n",
      "['4', '282614216', 'eBay: Best App to Buy, Sell, Save! Online Shopping', '128512000', 'USD', '0', '262241', '649', '4', '4.5', '5.10.0', '12+', 'Shopping', '37', '5', '9', '1']\n",
      "\n",
      "\n",
      "Number of rows: 7198\n",
      "Number of columns: 17\n"
     ]
    }
   ],
   "source": [
    "print(appStore[0],'\\n')\n",
    "explore_data(appStore, 1, 5, rows_and_columns=True)"
   ]
  },
  {
   "cell_type": "markdown",
   "metadata": {},
   "source": [
    "Some of the column names may not be helpful in fully understanding their content. For additional information on the datasets, refer to the source documentation available below:\n",
    "\n",
    "[Google Play documentation](https://www.kaggle.com/lava18/google-play-store-apps/home)\n",
    "\n",
    "[App Store documentation](https://www.kaggle.com/ramamet4/app-store-apple-data-set-10k-apps/home)"
   ]
  },
  {
   "cell_type": "markdown",
   "metadata": {},
   "source": [
    "---"
   ]
  },
  {
   "cell_type": "markdown",
   "metadata": {},
   "source": [
    "## Data Cleaning\n",
    "\n",
    "Before beginning our analysis, we will need clean data to work with. There are a couple main steps we need to take to ensure our data is clean:\n",
    "\n",
    "1. Detect and correct/remove inaccurate data\n",
    "2. Detect and remove duplicate data\n",
    "\n",
    "Additionally, our company only builds apps that are free to download and are targeted primarily at English speaking users. Therefore we'll need to add the following steps to our data cleaning process:\n",
    "\n",
    "3. Remove non-English language apps\n",
    "4. Remove paid apps (charge a fee to download / install)"
   ]
  },
  {
   "cell_type": "markdown",
   "metadata": {},
   "source": [
    "### Detect and Correct / Remove Inaccurate Data\n",
    "\n",
    "Starting with step 1 on the Google Play data, we immediately know that there is an error with one particular row. We owe our gratitude to previous users of this dataset who identified and discussed this issue. The original discussion on kaggle.com can be found [here](https://www.kaggle.com/lava18/google-play-store-apps/discussion/66015).\n",
    "\n",
    "The discussion specifies that row 10472, an app called \"Life Made Wi-Fi Touchscreen Photo Frame\" is the culprit. Let's check the row. Since data structure may vary based on how the data was imported, let's print the rows around it as well."
   ]
  },
  {
   "cell_type": "code",
   "execution_count": 5,
   "metadata": {},
   "outputs": [
    {
     "data": {
      "text/plain": [
       "[['Jazz Wi-Fi',\n",
       "  'COMMUNICATION',\n",
       "  '3.4',\n",
       "  '49',\n",
       "  '4.0M',\n",
       "  '10,000+',\n",
       "  'Free',\n",
       "  '0',\n",
       "  'Everyone',\n",
       "  'Communication',\n",
       "  'February 10, 2017',\n",
       "  '0.1',\n",
       "  '2.3 and up'],\n",
       " ['Xposed Wi-Fi-Pwd',\n",
       "  'PERSONALIZATION',\n",
       "  '3.5',\n",
       "  '1042',\n",
       "  '404k',\n",
       "  '100,000+',\n",
       "  'Free',\n",
       "  '0',\n",
       "  'Everyone',\n",
       "  'Personalization',\n",
       "  'August 5, 2014',\n",
       "  '3.0.0',\n",
       "  '4.0.3 and up'],\n",
       " ['Life Made WI-Fi Touchscreen Photo Frame',\n",
       "  '1.9',\n",
       "  '19',\n",
       "  '3.0M',\n",
       "  '1,000+',\n",
       "  'Free',\n",
       "  '0',\n",
       "  'Everyone',\n",
       "  '',\n",
       "  'February 11, 2018',\n",
       "  '1.0.19',\n",
       "  '4.0 and up']]"
      ]
     },
     "execution_count": 5,
     "metadata": {},
     "output_type": "execute_result"
    }
   ],
   "source": [
    "android[10471:10474]"
   ]
  },
  {
   "cell_type": "markdown",
   "metadata": {},
   "source": [
    "In our case, the app in question is row 10473. Comparing the \"Life Made\" entry with the others, it's clear that the app category is missing. Let's remove this row to be safe, using the `del` statement."
   ]
  },
  {
   "cell_type": "code",
   "execution_count": 6,
   "metadata": {},
   "outputs": [
    {
     "data": {
      "text/plain": [
       "[['Jazz Wi-Fi',\n",
       "  'COMMUNICATION',\n",
       "  '3.4',\n",
       "  '49',\n",
       "  '4.0M',\n",
       "  '10,000+',\n",
       "  'Free',\n",
       "  '0',\n",
       "  'Everyone',\n",
       "  'Communication',\n",
       "  'February 10, 2017',\n",
       "  '0.1',\n",
       "  '2.3 and up'],\n",
       " ['Xposed Wi-Fi-Pwd',\n",
       "  'PERSONALIZATION',\n",
       "  '3.5',\n",
       "  '1042',\n",
       "  '404k',\n",
       "  '100,000+',\n",
       "  'Free',\n",
       "  '0',\n",
       "  'Everyone',\n",
       "  'Personalization',\n",
       "  'August 5, 2014',\n",
       "  '3.0.0',\n",
       "  '4.0.3 and up'],\n",
       " ['osmino Wi-Fi: free WiFi',\n",
       "  'TOOLS',\n",
       "  '4.2',\n",
       "  '134203',\n",
       "  '4.1M',\n",
       "  '10,000,000+',\n",
       "  'Free',\n",
       "  '0',\n",
       "  'Everyone',\n",
       "  'Tools',\n",
       "  'August 7, 2018',\n",
       "  '6.06.14',\n",
       "  '4.4 and up']]"
      ]
     },
     "execution_count": 6,
     "metadata": {},
     "output_type": "execute_result"
    }
   ],
   "source": [
    "del android[10473]\n",
    "\n",
    "# Check Removal #\n",
    "android[10471:10474]"
   ]
  },
  {
   "cell_type": "markdown",
   "metadata": {
    "collapsed": true
   },
   "source": [
    "The above output confirms the error row was deleted. But, what if there are other rows with the same  type of error? One way to check is to compare the number of data points for each app to the number of expected columns, using the header names.\n",
    "\n",
    "This is accomplished with a `for` loop that checks the length of an app's data row against the headers. If an app has more or less data points than the headers, it is removed from the dataset. The 'enumerate' function gives us the row number so we know which app to remove.\n",
    "\n",
    "*Note: This only removes entries based on how much data is present vs. expected. There may be other data content errors that are not addressed in this step.*"
   ]
  },
  {
   "cell_type": "code",
   "execution_count": 7,
   "metadata": {},
   "outputs": [
    {
     "name": "stdout",
     "output_type": "stream",
     "text": [
      "0 apps were removed from the Google Play dataset.\n",
      "0 apps were removed from the App Store dataset.\n"
     ]
    }
   ],
   "source": [
    "headers = android[0]\n",
    "removedApps = 0\n",
    "for row, app in enumerate(android[1:]):\n",
    "    if len(app) != len(headers):\n",
    "        del android[i]\n",
    "        removedApps += 1\n",
    "\n",
    "print(removedApps,'apps were removed from the Google Play dataset.')\n",
    "\n",
    "headers = appStore[0]\n",
    "removedApps = 0\n",
    "for row, app in enumerate(appStore[1:]):\n",
    "    if len(app) != len(headers):\n",
    "        del appStore[i]\n",
    "        removedApps += 1\n",
    "\n",
    "print(removedApps,'apps were removed from the App Store dataset.')"
   ]
  },
  {
   "cell_type": "markdown",
   "metadata": {},
   "source": [
    "### Detect and Remove Duplicate Entries\n",
    "\n",
    "#### Part 1: How many duplicates are there?\n",
    "\n",
    "Now that the data format is what we are expecting for each app, let's check if there are any \n",
    "duplicate entries.\n",
    "\n",
    "Based on the dataset headers, we can use app name as a unique value to check. The App Store data does have an `Id` field, but we do not know for sure if that is a truly unique field. For example, do newer versions of the same app get a new Id value? We do know though that once cleaned, there should be only one \"Facebook\" or one \"Instagram\" entry.\n",
    "\n",
    "Before we begin, we also need to determine how we identify which duplicate entry to keep. The Google Play data does have a `Last Updated` field. But what if an app had more than one update in the same day? Additionally, the App Store dataset has no date field.\n",
    "\n",
    "What we do have is a field for number of reviews called `Reviews` for Google Play and `rating_count_tot` for the App Store. It is safe to assume which is the most recent entry for an app based on the entry that has the most reviews out of all the duplicates. \n",
    "\n",
    "First, let's figure out just how many duplicate apps are in each dataset. We can do this by looping through the dataset and appending app names to a list. In the loop, we'll also check to see if an app is already on our list. If it is, we'll add it to a second list to identify it as a duplicate entry. Once the lists are populated, we can figure out how many duplicates there are by examining the length of the lists."
   ]
  },
  {
   "cell_type": "code",
   "execution_count": 8,
   "metadata": {},
   "outputs": [
    {
     "name": "stdout",
     "output_type": "stream",
     "text": [
      "There are 1181 duplicate Android app entries\n",
      "Examples: ['Quick PDF Scanner + OCR FREE', 'Box', 'Google My Business', 'ZOOM Cloud Meetings', 'join.me - Simple Meetings', 'Box']\n",
      "\n",
      "There are 0 duplicate Apple app entries\n",
      "Examples: []\n"
     ]
    }
   ],
   "source": [
    "unique_android = []\n",
    "duplicate_android = []\n",
    "\n",
    "for app in android[1:]:\n",
    "   name = app[0]\n",
    "   if name in unique_android:\n",
    "      duplicate_android.append(name)\n",
    "   else:\n",
    "      unique_android.append(name)\n",
    "\n",
    "print('There are',len(duplicate_android),'duplicate Android app entries')\n",
    "print('Examples:', duplicate_android[:6])\n",
    "        \n",
    "unique_appstore = []\n",
    "duplicate_appstore = []\n",
    "\n",
    "for app in appStore[1:]:\n",
    "   name = app[0]\n",
    "   if name in unique_appstore:\n",
    "      duplicate_appstore.append(name)\n",
    "   else:\n",
    "      unique_appstore.append(name)\n",
    "\n",
    "print('\\nThere are',len(duplicate_appstore),'duplicate Apple app entries')\n",
    "print('Examples:', duplicate_appstore[:6])"
   ]
  },
  {
   "cell_type": "markdown",
   "metadata": {},
   "source": [
    "Luckily we only have duplicate apps in the Google Play dataset, of which there are 1,181 duplicate entries.\n",
    "\n",
    "Looking at the original length of the Google Play dataset, we can easily determine how many entries our clean set should contain (including the header):"
   ]
  },
  {
   "cell_type": "code",
   "execution_count": 9,
   "metadata": {},
   "outputs": [
    {
     "name": "stdout",
     "output_type": "stream",
     "text": [
      "9660\n"
     ]
    }
   ],
   "source": [
    "print(len(android) - 1181)"
   ]
  },
  {
   "cell_type": "markdown",
   "metadata": {},
   "source": [
    "#### Part 2: Finding highest number of reviews.\n",
    "\n",
    "The next step of this process is to identify the highest number of reviews for each app. This number will be used in step 3 to identify the correct entries.\n",
    "\n",
    "We can accomplish this step by creating a dictionary with the app name as the key, and number of reviews as the value. Looping through the dataset, we check if a name is already in the dictionary. If it is not, add the name and the number of reviews. If it is in the dictionary, then a check will be done on the number of reviews. If the current entry is higher then the value will be replaced. Otherwise it will remain the same. The final product is a dictionary with every unique app name and the highest number of reviews for that app.\n",
    "\n",
    "We should expect to see 9,659 entries in this dictionary since these are the unique apps."
   ]
  },
  {
   "cell_type": "code",
   "execution_count": 10,
   "metadata": {},
   "outputs": [
    {
     "name": "stdout",
     "output_type": "stream",
     "text": [
      "9659\n"
     ]
    }
   ],
   "source": [
    "name_reviews = {}\n",
    "for app in android[1:]:\n",
    "    name = app[0]\n",
    "    reviews = float(app[3])\n",
    "    if name not in name_reviews:\n",
    "        name_reviews[name] = reviews\n",
    "    elif reviews > name_reviews[name]:\n",
    "            name_reviews[name] = reviews\n",
    "\n",
    "print(len(name_reviews))\n"
   ]
  },
  {
   "cell_type": "markdown",
   "metadata": {},
   "source": [
    "#### Part 3: Selecting the correct entries.\n",
    "\n",
    "Now that we can reference each app's max number of reviews, we can use that number to identify the correct entries. To do so, we'll construct 2 lists. One of which, `android_clean` will contain the full, cleaned dataset. The other, `already_added` will be used to identify which apps are added to the new dataset.\n",
    "\n",
    "This second list is necessary because there are some apps who have more than one entry sharing the same max number of reviews. This list will prevent duplicate entries even if they match the # of reviews criterion.\n",
    "\n",
    "The loop will look through the dataset, then check if the number of reviews matches the number we have in the `name_reviews` dictionary. If it does, then add the app's entry to the `android_clean` list and the app's name to the `already_added` list. If the app's name exist on the `already_added` list, or the reviews don't match what we have in `name_reviews`, the entry is skipped.\n",
    "\n",
    "Let's also print the length of the final dataset. Counting the header entry, we should see 9,660 entries."
   ]
  },
  {
   "cell_type": "code",
   "execution_count": 11,
   "metadata": {},
   "outputs": [
    {
     "name": "stdout",
     "output_type": "stream",
     "text": [
      "9660\n"
     ]
    }
   ],
   "source": [
    "android_clean = []\n",
    "already_added = []\n",
    "\n",
    "#Add headers to new dataset:\n",
    "android_clean.append(android[0])\n",
    "\n",
    "for app in android[1:]:\n",
    "    name = app[0]\n",
    "    reviews = float(app[3])\n",
    "    if reviews == name_reviews[name] and name not in already_added:\n",
    "        android_clean.append(app)\n",
    "        already_added.append(name)\n",
    "\n",
    "print(len(android_clean))"
   ]
  },
  {
   "cell_type": "markdown",
   "metadata": {},
   "source": [
    "### Removing Non-English Apps\n",
    "\n",
    "The company we're working for only develops apps in English and therefore is not interested in the data regarding foreign language apps. This step in the cleaning process will remove those apps from our datasets.\n",
    "\n",
    "String characters each have a corresponding value which can be found using the `ord()` function. Based on the American Standard Code for Information Interchange (ASCII), we know that common English charactes (letters, arabic numerals, special characters) are in the 0 to 127 range. It's likely that apps containing characters past 127 are not English language apps and can be discarded.\n",
    "\n",
    "However, there are some characters such as \"™\" or emojis like \"😜\" that can appear in English apps. Therefore we can't throw out apps based on a single character criteria. It is safer to discard apps if they have a higher number of non-English characters. Let's use more than 3 as our criteria.\n",
    "\n",
    "We can write a function that checks an app name for whether it is English or not. The function will first parse out the characters in the app and, using the `ord()` function, check each one to determine if it is English or not based on it's `ord()` value. It will then identify non-English apps by names that have more than 3 characters."
   ]
  },
  {
   "cell_type": "code",
   "execution_count": 12,
   "metadata": {},
   "outputs": [
    {
     "name": "stdout",
     "output_type": "stream",
     "text": [
      "True\n",
      "False\n",
      "True\n"
     ]
    }
   ],
   "source": [
    "def is_english(app_name):\n",
    "    non_eng = 0\n",
    "    for letter in app_name:\n",
    "        if ord(letter) > 127:\n",
    "            non_eng += 1\n",
    "    if non_eng > 3:\n",
    "        return False\n",
    "    else:\n",
    "        return True\n",
    "\n",
    "#Function Check:\n",
    "print(is_english('Instagram'))\n",
    "print(is_english('爱奇艺PPS -《欢乐颂2》电视剧热播'))\n",
    "print(is_english('Instachat 😜'))"
   ]
  },
  {
   "cell_type": "markdown",
   "metadata": {},
   "source": [
    "Now with the `is_english()` function built, we can check each app's name to determine if it's English or not. Apps that are identified as English will be put in a separate list for a clean dataset."
   ]
  },
  {
   "cell_type": "code",
   "execution_count": 13,
   "metadata": {},
   "outputs": [
    {
     "name": "stdout",
     "output_type": "stream",
     "text": [
      "9615\n",
      "7198\n"
     ]
    }
   ],
   "source": [
    "android_eng = []\n",
    "\n",
    "#Add header row:\n",
    "android_eng.append(android_clean[0])\n",
    "\n",
    "for app in android_clean[1:]:\n",
    "    if is_english(app[0]):\n",
    "        android_eng.append(app)\n",
    "\n",
    "appstore_eng = []\n",
    "\n",
    "#Add header row:\n",
    "appstore_eng.append(appStore[0])\n",
    "\n",
    "for app in appStore[1:]:\n",
    "    if is_english(app[1]):\n",
    "        appstore_eng.append(app)\n",
    "\n",
    "print(len(android_eng))\n",
    "print(len(appstore_eng))"
   ]
  },
  {
   "cell_type": "markdown",
   "metadata": {},
   "source": [
    "### Removing Paid Apps\n",
    "\n",
    "Our company only creates apps that are free to download and install. Therefore to maintain a clean comparison, we'll remove any apps that require payment to download and install.\n",
    "\n",
    "Examining the headers, we see that the datasets have a field called 'price'. The condition of price being equal to 0 will isolate the apps that we are interested in. Let's set up a loop to check the price of each app and put it in a new dataset if it is a free app."
   ]
  },
  {
   "cell_type": "code",
   "execution_count": 14,
   "metadata": {},
   "outputs": [
    {
     "name": "stdout",
     "output_type": "stream",
     "text": [
      "8865\n",
      "4057\n"
     ]
    }
   ],
   "source": [
    "android_final = []\n",
    "android_final.append(android_eng[0])\n",
    "for app in android_eng[1:]:\n",
    "    if app[7] == '0':\n",
    "        android_final.append(app)\n",
    "\n",
    "       \n",
    "appstore_final = []\n",
    "appstore_final.append(appstore_eng[0])\n",
    "for app in appstore_eng[1:]:\n",
    "    if app[5] == '0':\n",
    "        appstore_final.append(app)\n",
    "        \n",
    "print(len(android_final))\n",
    "print(len(appstore_final))"
   ]
  },
  {
   "cell_type": "markdown",
   "metadata": {},
   "source": [
    "---"
   ]
  },
  {
   "cell_type": "markdown",
   "metadata": {},
   "source": [
    "## Data Analysis"
   ]
  },
  {
   "cell_type": "markdown",
   "metadata": {
    "collapsed": true
   },
   "source": [
    "The end goal for our analysis is to determine properties that make an app attract more users. Many apps across both marketplaces are successful at accomplishing this. We can create a profile of a successful app by examining these existing apps. Using those properties in our own app will raise our chance of success in the market.\n",
    "\n",
    "To minimize risk though, we'll use the following strategy to validate whether an app we created is successful or not:\n",
    "\n",
    "1. Build a minimal Android version and publish on Google Play\n",
    "2. If app has positive response from users, develop additional features\n",
    "3. If app is profitable after 6 months, then build and publish iOS version\n",
    "\n",
    "A good high-level data point to start with is the type of app, such as what category or genre is is classified as. Let's identify the appropriate data fields that contain this information.\n",
    "\n",
    "In the `android_final` dataset, the fields `Genre` and `Category` look to contain this information. For the `appstore_final` dataset, there's only the one `prime_genre` field to reference."
   ]
  },
  {
   "cell_type": "markdown",
   "metadata": {},
   "source": [
    "### Part 1\n",
    "\n",
    "Let's get a better understanding of successful app genres by taking a look at the frequency of each genre on the markets. We'll start by creating a function `freq_table` to output a frequency for any specified column using the dataset and index value of the desired column:"
   ]
  },
  {
   "cell_type": "code",
   "execution_count": 15,
   "metadata": {},
   "outputs": [],
   "source": [
    "def freq_table(dataset, index):\n",
    "    table = {}\n",
    "    total = 0\n",
    "    \n",
    "    for row in dataset:\n",
    "        total += 1\n",
    "        value = row[index]\n",
    "        if value in table:\n",
    "            table[value] += 1\n",
    "        else:\n",
    "            table[value] = 1\n",
    "    \n",
    "    table_percentages = {}\n",
    "    for key in table:\n",
    "        percentage = round((table[key] / total) * 100, 2)\n",
    "        table_percentages[key] = percentage\n",
    "    \n",
    "    return table_percentages        "
   ]
  },
  {
   "cell_type": "markdown",
   "metadata": {},
   "source": [
    "With the percentages calculated, we'll use a second function `display_table` to sort and display the results:"
   ]
  },
  {
   "cell_type": "code",
   "execution_count": 16,
   "metadata": {},
   "outputs": [],
   "source": [
    "def display_table(dataset, index):\n",
    "    table = freq_table(dataset, index)\n",
    "    table_display = []\n",
    "    for key in table:\n",
    "        key_val_as_tuple = (table[key], key)\n",
    "        table_display.append(key_val_as_tuple)\n",
    "        \n",
    "    table_sorted = sorted(table_display, reverse = True)\n",
    "    for entry in table_sorted:\n",
    "        print(entry[1], ':', entry[0])"
   ]
  },
  {
   "cell_type": "markdown",
   "metadata": {},
   "source": [
    "### Part 2\n",
    "\n",
    "Since our strategy calls for publishing to Google Play first, let's examine the results from the `Genre` and `Category` columns of that dataset:"
   ]
  },
  {
   "cell_type": "code",
   "execution_count": 17,
   "metadata": {},
   "outputs": [
    {
     "name": "stdout",
     "output_type": "stream",
     "text": [
      "Tools : 8.45\n",
      "Entertainment : 6.07\n",
      "Education : 5.35\n",
      "Business : 4.59\n",
      "Productivity : 3.89\n",
      "Lifestyle : 3.89\n",
      "Finance : 3.7\n",
      "Medical : 3.53\n",
      "Sports : 3.46\n",
      "Personalization : 3.32\n",
      "Communication : 3.24\n",
      "Action : 3.1\n",
      "Health & Fitness : 3.08\n",
      "Photography : 2.94\n",
      "News & Magazines : 2.8\n",
      "Social : 2.66\n",
      "Travel & Local : 2.32\n",
      "Shopping : 2.25\n",
      "Books & Reference : 2.14\n",
      "Simulation : 2.04\n",
      "Dating : 1.86\n",
      "Arcade : 1.85\n",
      "Video Players & Editors : 1.77\n",
      "Casual : 1.76\n",
      "Maps & Navigation : 1.4\n",
      "Food & Drink : 1.24\n",
      "Puzzle : 1.13\n",
      "Racing : 0.99\n",
      "Role Playing : 0.94\n",
      "Libraries & Demo : 0.94\n",
      "Auto & Vehicles : 0.93\n",
      "Strategy : 0.91\n",
      "House & Home : 0.82\n",
      "Weather : 0.8\n",
      "Events : 0.71\n",
      "Adventure : 0.68\n",
      "Comics : 0.61\n",
      "Beauty : 0.6\n",
      "Art & Design : 0.6\n",
      "Parenting : 0.5\n",
      "Card : 0.45\n",
      "Casino : 0.43\n",
      "Trivia : 0.42\n",
      "Educational;Education : 0.39\n",
      "Board : 0.38\n",
      "Educational : 0.37\n",
      "Education;Education : 0.34\n",
      "Word : 0.26\n",
      "Casual;Pretend Play : 0.24\n",
      "Music : 0.2\n",
      "Racing;Action & Adventure : 0.17\n",
      "Puzzle;Brain Games : 0.17\n",
      "Entertainment;Music & Video : 0.17\n",
      "Casual;Brain Games : 0.14\n",
      "Casual;Action & Adventure : 0.14\n",
      "Arcade;Action & Adventure : 0.12\n",
      "Action;Action & Adventure : 0.1\n",
      "Educational;Pretend Play : 0.09\n",
      "Simulation;Action & Adventure : 0.08\n",
      "Parenting;Education : 0.08\n",
      "Entertainment;Brain Games : 0.08\n",
      "Board;Brain Games : 0.08\n",
      "Parenting;Music & Video : 0.07\n",
      "Educational;Brain Games : 0.07\n",
      "Casual;Creativity : 0.07\n",
      "Art & Design;Creativity : 0.07\n",
      "Education;Pretend Play : 0.06\n",
      "Role Playing;Pretend Play : 0.05\n",
      "Education;Creativity : 0.05\n",
      "Role Playing;Action & Adventure : 0.03\n",
      "Puzzle;Action & Adventure : 0.03\n",
      "Entertainment;Creativity : 0.03\n",
      "Entertainment;Action & Adventure : 0.03\n",
      "Educational;Creativity : 0.03\n",
      "Educational;Action & Adventure : 0.03\n",
      "Education;Music & Video : 0.03\n",
      "Education;Brain Games : 0.03\n",
      "Education;Action & Adventure : 0.03\n",
      "Adventure;Action & Adventure : 0.03\n",
      "Video Players & Editors;Music & Video : 0.02\n",
      "Sports;Action & Adventure : 0.02\n",
      "Simulation;Pretend Play : 0.02\n",
      "Puzzle;Creativity : 0.02\n",
      "Music;Music & Video : 0.02\n",
      "Entertainment;Pretend Play : 0.02\n",
      "Casual;Education : 0.02\n",
      "Board;Action & Adventure : 0.02\n",
      "Video Players & Editors;Creativity : 0.01\n",
      "Trivia;Education : 0.01\n",
      "Travel & Local;Action & Adventure : 0.01\n",
      "Tools;Education : 0.01\n",
      "Strategy;Education : 0.01\n",
      "Strategy;Creativity : 0.01\n",
      "Strategy;Action & Adventure : 0.01\n",
      "Simulation;Education : 0.01\n",
      "Role Playing;Brain Games : 0.01\n",
      "Racing;Pretend Play : 0.01\n",
      "Puzzle;Education : 0.01\n",
      "Parenting;Brain Games : 0.01\n",
      "Music & Audio;Music & Video : 0.01\n",
      "Lifestyle;Pretend Play : 0.01\n",
      "Lifestyle;Education : 0.01\n",
      "Health & Fitness;Education : 0.01\n",
      "Health & Fitness;Action & Adventure : 0.01\n",
      "Entertainment;Education : 0.01\n",
      "Communication;Creativity : 0.01\n",
      "Comics;Creativity : 0.01\n",
      "Casual;Music & Video : 0.01\n",
      "Card;Action & Adventure : 0.01\n",
      "Books & Reference;Education : 0.01\n",
      "Art & Design;Pretend Play : 0.01\n",
      "Art & Design;Action & Adventure : 0.01\n",
      "Arcade;Pretend Play : 0.01\n",
      "Adventure;Education : 0.01\n"
     ]
    }
   ],
   "source": [
    "display_table(android_final[1:], 9) #Genres"
   ]
  },
  {
   "cell_type": "code",
   "execution_count": 18,
   "metadata": {},
   "outputs": [
    {
     "name": "stdout",
     "output_type": "stream",
     "text": [
      "FAMILY : 18.91\n",
      "GAME : 9.72\n",
      "TOOLS : 8.46\n",
      "BUSINESS : 4.59\n",
      "LIFESTYLE : 3.9\n",
      "PRODUCTIVITY : 3.89\n",
      "FINANCE : 3.7\n",
      "MEDICAL : 3.53\n",
      "SPORTS : 3.4\n",
      "PERSONALIZATION : 3.32\n",
      "COMMUNICATION : 3.24\n",
      "HEALTH_AND_FITNESS : 3.08\n",
      "PHOTOGRAPHY : 2.94\n",
      "NEWS_AND_MAGAZINES : 2.8\n",
      "SOCIAL : 2.66\n",
      "TRAVEL_AND_LOCAL : 2.34\n",
      "SHOPPING : 2.25\n",
      "BOOKS_AND_REFERENCE : 2.14\n",
      "DATING : 1.86\n",
      "VIDEO_PLAYERS : 1.79\n",
      "MAPS_AND_NAVIGATION : 1.4\n",
      "FOOD_AND_DRINK : 1.24\n",
      "EDUCATION : 1.16\n",
      "ENTERTAINMENT : 0.96\n",
      "LIBRARIES_AND_DEMO : 0.94\n",
      "AUTO_AND_VEHICLES : 0.93\n",
      "HOUSE_AND_HOME : 0.82\n",
      "WEATHER : 0.8\n",
      "EVENTS : 0.71\n",
      "PARENTING : 0.65\n",
      "ART_AND_DESIGN : 0.64\n",
      "COMICS : 0.62\n",
      "BEAUTY : 0.6\n"
     ]
    }
   ],
   "source": [
    "display_table(android_final[1:], 1) #Categories"
   ]
  },
  {
   "cell_type": "markdown",
   "metadata": {},
   "source": [
    "Looking at the Google Play data, we see that Family is clearly the most common app category at ~19%. Games follow a distance behind at 9.72%, then Tools at 8.46%.\n",
    "\n",
    "The genres show a similar pattern with Tools being the most common at 8.45%, followed by Entertainment (6.07%), then Business, Productivity, and Lifestyle.\n",
    "\n",
    "Some of the top categories and genres show possible overlap such as Tools, Business, Productivity, and Lifestyle. The Family category though is not equivalent to a single genre, and implies there's diversity within that category that we may need to examine.\n",
    "\n",
    "Let's take a look at the App Store data to see how it compares:"
   ]
  },
  {
   "cell_type": "code",
   "execution_count": 19,
   "metadata": {},
   "outputs": [
    {
     "name": "stdout",
     "output_type": "stream",
     "text": [
      "Games : 55.65\n",
      "Entertainment : 8.23\n",
      "Photo & Video : 4.12\n",
      "Social Networking : 3.53\n",
      "Education : 3.25\n",
      "Shopping : 2.98\n",
      "Utilities : 2.69\n",
      "Lifestyle : 2.32\n",
      "Finance : 2.07\n",
      "Sports : 1.95\n",
      "Health & Fitness : 1.87\n",
      "Music : 1.65\n",
      "Book : 1.63\n",
      "Productivity : 1.53\n",
      "News : 1.43\n",
      "Travel : 1.38\n",
      "Food & Drink : 1.06\n",
      "Weather : 0.76\n",
      "Reference : 0.49\n",
      "Navigation : 0.49\n",
      "Business : 0.49\n",
      "Catalogs : 0.22\n",
      "Medical : 0.2\n"
     ]
    }
   ],
   "source": [
    "display_table(appstore_final[1:], -5)"
   ]
  },
  {
   "cell_type": "markdown",
   "metadata": {},
   "source": [
    "The App Store has a clear popular category, with a majority of the apps being categorized as Games. Entertainment and Photo & Video follow.\n",
    "\n",
    "Genre itself does not provide us enough information to determine what makes a successful app. But it does give narrow down the categories our apps should compete in. There is an interesting distinction of popular categories between the two markets. In the App Store, Games are clearly the top category. But in Google Play, we see that more practical genres like Tools, Business, Education, are comparable to Entertainment. Overall, apps on the Google Play store tend to be more balanced than solely focused on entertainment."
   ]
  },
  {
   "cell_type": "markdown",
   "metadata": {
    "collapsed": true
   },
   "source": [
    "### Part 3\n",
    "\n",
    "We can get a better understanding of app popularity by looking at number of installs within each genre or category. This will help give us a more direct estimate of profitability since we need to maximize the number of users on the app.\n",
    "\n",
    "### App Store\n",
    "\n",
    "Let's start by looking at the App Store data. The data does not have a metric on number of installs. However it does have total number of reviews. We can use this `rating_count_tot` field as a proxy.\n",
    "\n",
    "Using the `freq_table` function created earlier, we'll loop through the table, then through the full data, to get an average number of ratings per genre."
   ]
  },
  {
   "cell_type": "code",
   "execution_count": 20,
   "metadata": {},
   "outputs": [
    {
     "name": "stdout",
     "output_type": "stream",
     "text": [
      "Productivity : 0\n",
      "Weather : 0\n",
      "Shopping : 0\n",
      "Reference : 0\n",
      "Finance : 0\n",
      "Music : 0\n",
      "Utilities : 0\n",
      "Travel : 0\n",
      "Social Networking : 0\n",
      "Sports : 0\n",
      "Health & Fitness : 0\n",
      "Games : 0\n",
      "Food & Drink : 0\n",
      "News : 0\n",
      "Book : 0\n",
      "Photo & Video : 0\n",
      "Entertainment : 0\n",
      "Business : 0\n",
      "Lifestyle : 0\n",
      "Education : 0\n",
      "Navigation : 0\n",
      "Medical : 0\n",
      "Catalogs : 0\n"
     ]
    }
   ],
   "source": [
    "genres_ios = freq_table(appstore_final[1:], -5)\n",
    "\n",
    "for genre in genres_ios:\n",
    "    total = 0\n",
    "    len_genre = 0\n",
    "    for app in appstore_final:\n",
    "        genre_app = app[-5]\n",
    "        if genre_app == genre:            \n",
    "            n_ratings = int(app[5])\n",
    "            total += n_ratings\n",
    "            len_genre += 1\n",
    "    avg_n_ratings = int(total / len_genre)\n",
    "    print(genre, ':', avg_n_ratings)"
   ]
  },
  {
   "cell_type": "markdown",
   "metadata": {},
   "source": [
    "Navigation, Reference, and Social Networking apps lead the list with the highest number of ratings. These categories though have a few big names that are likely skewing the data such as Waze, Google Maps in Navigation, or Facebook, Instagram, Snapchat in Social Networking.\n",
    "\n",
    "Let's take a look at these two categories more closely:"
   ]
  },
  {
   "cell_type": "code",
   "execution_count": 21,
   "metadata": {},
   "outputs": [
    {
     "name": "stdout",
     "output_type": "stream",
     "text": [
      "323229106 : 0\n",
      "329541503 : 0\n",
      "344176018 : 0\n",
      "377321278 : 0\n",
      "413487517 : 0\n",
      "447024088 : 0\n",
      "452186370 : 0\n",
      "461703208 : 0\n",
      "463431091 : 0\n",
      "504677517 : 0\n",
      "528532387 : 0\n",
      "553771681 : 0\n",
      "562136065 : 0\n",
      "585027354 : 0\n",
      "820004378 : 0\n",
      "982887800 : 0\n",
      "1025396583 : 0\n",
      "1074321709 : 0\n",
      "1075817264 : 0\n",
      "1130847808 : 0\n"
     ]
    }
   ],
   "source": [
    "for app in appstore_final:\n",
    "    if app[-5] == 'Navigation':\n",
    "        print(app[1], ':', app[5])"
   ]
  },
  {
   "cell_type": "code",
   "execution_count": 22,
   "metadata": {},
   "outputs": [
    {
     "name": "stdout",
     "output_type": "stream",
     "text": [
      "284882215 : 0\n",
      "288429040 : 0\n",
      "304878510 : 0\n",
      "305343404 : 0\n",
      "305939712 : 0\n",
      "310633997 : 0\n",
      "314716233 : 0\n",
      "319881193 : 0\n",
      "336435697 : 0\n",
      "349442137 : 0\n",
      "350962117 : 0\n",
      "351331194 : 0\n",
      "357218860 : 0\n",
      "364183992 : 0\n",
      "369970819 : 0\n",
      "372513032 : 0\n",
      "372648912 : 0\n",
      "375239755 : 0\n",
      "382617920 : 0\n",
      "384830320 : 0\n",
      "386098453 : 0\n",
      "389638243 : 0\n",
      "392796698 : 0\n",
      "398166286 : 0\n",
      "405548206 : 0\n",
      "414478124 : 0\n",
      "427941017 : 0\n",
      "428845974 : 0\n",
      "429047995 : 0\n",
      "432274380 : 0\n",
      "433156786 : 0\n",
      "442012681 : 0\n",
      "443904275 : 0\n",
      "444934666 : 0\n",
      "445338486 : 0\n",
      "448165862 : 0\n",
      "453718989 : 0\n",
      "454638411 : 0\n",
      "458272450 : 0\n",
      "471347413 : 0\n",
      "477091899 : 0\n",
      "477927812 : 0\n",
      "505311207 : 0\n",
      "506141837 : 0\n",
      "531761928 : 0\n",
      "539124565 : 0\n",
      "552208596 : 0\n",
      "554064861 : 0\n",
      "558512661 : 0\n",
      "562162550 : 0\n",
      "566223681 : 0\n",
      "569077959 : 0\n",
      "570315854 : 0\n",
      "575147772 : 0\n",
      "640360962 : 0\n",
      "643496868 : 0\n",
      "648228242 : 0\n",
      "651309421 : 0\n",
      "686449807 : 0\n",
      "698054232 : 0\n",
      "710380093 : 0\n",
      "719829352 : 0\n",
      "733144873 : 0\n",
      "789870026 : 0\n",
      "836071680 : 0\n",
      "838848566 : 0\n",
      "852801905 : 0\n",
      "861891048 : 0\n",
      "862550306 : 0\n",
      "867887231 : 0\n",
      "899538562 : 0\n",
      "907002334 : 0\n",
      "912561374 : 0\n",
      "918396645 : 0\n",
      "924589795 : 0\n",
      "940401053 : 0\n",
      "949817566 : 0\n",
      "957764690 : 0\n",
      "965609252 : 0\n",
      "966099615 : 0\n",
      "972909677 : 0\n",
      "978985106 : 0\n",
      "985746746 : 0\n",
      "988396858 : 0\n",
      "991032122 : 0\n",
      "991526007 : 0\n",
      "992004655 : 0\n",
      "994119740 : 0\n",
      "997252057 : 0\n",
      "998360879 : 0\n",
      "1011114397 : 0\n",
      "1030487391 : 0\n",
      "1030505688 : 0\n",
      "1031164407 : 0\n",
      "1033049320 : 0\n",
      "1043337296 : 0\n",
      "1053285387 : 0\n",
      "1054355818 : 0\n",
      "1056011241 : 0\n",
      "1061724021 : 0\n",
      "1065781769 : 0\n",
      "1066416979 : 0\n",
      "1067891186 : 0\n",
      "1068353024 : 0\n",
      "1068460848 : 0\n",
      "1069757703 : 0\n",
      "1071039429 : 0\n",
      "1071045817 : 0\n",
      "1073811368 : 0\n",
      "1073816197 : 0\n",
      "1074278256 : 0\n",
      "1076297448 : 0\n",
      "1077150310 : 0\n",
      "1078542442 : 0\n",
      "1080541663 : 0\n",
      "1083057569 : 0\n",
      "1085024470 : 0\n",
      "1089386287 : 0\n",
      "1089516052 : 0\n",
      "1089836344 : 0\n",
      "1090636013 : 0\n",
      "1091891746 : 0\n",
      "1094167473 : 0\n",
      "1095581857 : 0\n",
      "1095583219 : 0\n",
      "1096801294 : 0\n",
      "1096918571 : 0\n",
      "1096964165 : 0\n",
      "1097492828 : 0\n",
      "1100160696 : 0\n",
      "1112071865 : 0\n",
      "1112989865 : 0\n",
      "1114288419 : 0\n",
      "1116880272 : 0\n",
      "1121967198 : 0\n",
      "1129553203 : 0\n",
      "1148502570 : 0\n",
      "1156192844 : 0\n",
      "1165924249 : 0\n",
      "1171367187 : 0\n",
      "1178472225 : 0\n",
      "1183234072 : 0\n",
      "1185328193 : 0\n"
     ]
    }
   ],
   "source": [
    "for app in appstore_final:\n",
    "    if app[-5] == 'Social Networking':\n",
    "        print(app[1], ':', app[5])"
   ]
  },
  {
   "cell_type": "markdown",
   "metadata": {},
   "source": [
    "With some well established names in these categories, it would be very difficult to compete and establish a successful app in Navigation or Social Networking. Let's take a look also at the Reference category:"
   ]
  },
  {
   "cell_type": "code",
   "execution_count": 23,
   "metadata": {},
   "outputs": [
    {
     "name": "stdout",
     "output_type": "stream",
     "text": [
      "282935706 : 0\n",
      "308750436 : 0\n",
      "364740856 : 0\n",
      "388389451 : 0\n",
      "399452287 : 0\n",
      "414706506 : 0\n",
      "475772902 : 0\n",
      "640199958 : 0\n",
      "671889349 : 0\n",
      "980134624 : 0\n",
      "1003837100 : 0\n",
      "1096464625 : 0\n",
      "1130829481 : 0\n",
      "1132715891 : 0\n",
      "1133678984 : 0\n",
      "1133706938 : 0\n",
      "1135575003 : 0\n",
      "1137683736 : 0\n",
      "1156856246 : 0\n",
      "1171021623 : 0\n"
     ]
    }
   ],
   "source": [
    "for app in appstore_final:\n",
    "    if app[-5] == 'Reference':\n",
    "        print(app[1], ':', app[5])"
   ]
  },
  {
   "cell_type": "markdown",
   "metadata": {},
   "source": [
    "In the reference category, the Bible and Dictionary.com lead the list. However there are not many other apps in this category to compete with. It's possible this group may be our potential market for a successful app. We could take another popular book or reference material and create an app for it, adding features beyond the raw text such as built-in dictionary, source material, or trivia to keep users engaged and spending more time in the app."
   ]
  },
  {
   "cell_type": "markdown",
   "metadata": {},
   "source": [
    "### Google Play\n",
    "\n",
    "For the Android dataset, we do have a specific `Installs` column. This column uses categorical data though, not a raw number of installations. Let's take a look at the breakdown of this field using the `display_table` function from earlier:"
   ]
  },
  {
   "cell_type": "code",
   "execution_count": 24,
   "metadata": {},
   "outputs": [
    {
     "name": "stdout",
     "output_type": "stream",
     "text": [
      "1,000,000+ : 15.73\n",
      "100,000+ : 11.55\n",
      "10,000,000+ : 10.55\n",
      "10,000+ : 10.2\n",
      "1,000+ : 8.39\n",
      "100+ : 6.92\n",
      "5,000,000+ : 6.83\n",
      "500,000+ : 5.56\n",
      "50,000+ : 4.77\n",
      "5,000+ : 4.51\n",
      "10+ : 3.54\n",
      "500+ : 3.25\n",
      "50,000,000+ : 2.3\n",
      "100,000,000+ : 2.13\n",
      "50+ : 1.92\n",
      "5+ : 0.79\n",
      "1+ : 0.51\n",
      "500,000,000+ : 0.27\n",
      "1,000,000,000+ : 0.23\n",
      "0+ : 0.05\n",
      "0 : 0.01\n"
     ]
    }
   ],
   "source": [
    "display_table(android_final[1:], 5)"
   ]
  },
  {
   "cell_type": "markdown",
   "metadata": {},
   "source": [
    "The categories within the field give us an idea of popularity, but are not precise enough. For example, an app in the 100,000+ group may have 100,001 or 400,000 installs. We'll have to make an assumption here that apps within each grouping have the exact number of installs. An app in the 1,000+ group will be assumed to have exactly 1,000 installs.\n",
    "\n",
    "To get an average as we did with the App Store, the grouping names need to be cleaned and converted to numeric values. We can loop through the data as we did before, but will have to add a cleaning portion that removes the `,` and `+` from the name and converts the value to a numeric:"
   ]
  },
  {
   "cell_type": "code",
   "execution_count": 25,
   "metadata": {},
   "outputs": [
    {
     "name": "stdout",
     "output_type": "stream",
     "text": [
      "ART_AND_DESIGN : 1986335\n",
      "AUTO_AND_VEHICLES : 647317\n",
      "BEAUTY : 513151\n",
      "BOOKS_AND_REFERENCE : 8767811\n",
      "BUSINESS : 1712290\n",
      "COMICS : 817657\n",
      "COMMUNICATION : 38456119\n",
      "DATING : 854028\n",
      "EDUCATION : 1833495\n",
      "ENTERTAINMENT : 11640705\n",
      "EVENTS : 253542\n",
      "FINANCE : 1387692\n",
      "FOOD_AND_DRINK : 1924897\n",
      "HEALTH_AND_FITNESS : 4188821\n",
      "HOUSE_AND_HOME : 1331540\n",
      "LIBRARIES_AND_DEMO : 638503\n",
      "LIFESTYLE : 1437816\n",
      "GAME : 15588015\n",
      "FAMILY : 3695641\n",
      "MEDICAL : 120550\n",
      "SOCIAL : 23253652\n",
      "SHOPPING : 7036877\n",
      "PHOTOGRAPHY : 17840110\n",
      "SPORTS : 3638640\n",
      "TRAVEL_AND_LOCAL : 13984077\n",
      "TOOLS : 10801391\n",
      "PERSONALIZATION : 5201482\n",
      "PRODUCTIVITY : 16787331\n",
      "PARENTING : 542603\n",
      "WEATHER : 5074486\n",
      "VIDEO_PLAYERS : 24727872\n",
      "NEWS_AND_MAGAZINES : 9549178\n",
      "MAPS_AND_NAVIGATION : 4056941\n"
     ]
    }
   ],
   "source": [
    "categories_android = freq_table(android_final[1:], 1)\n",
    "\n",
    "for category in categories_android:\n",
    "    total = 0\n",
    "    len_category = 0\n",
    "    for app in android_final:\n",
    "        category_app = app[1]\n",
    "        if category_app == category:            \n",
    "            n_installs = app[5]\n",
    "            n_installs = n_installs.replace(',', '')\n",
    "            n_installs = n_installs.replace('+', '')\n",
    "            total += float(n_installs)\n",
    "            len_category += 1\n",
    "    avg_n_installs = int(total / len_category)\n",
    "    print(category, ':', avg_n_installs)"
   ]
  },
  {
   "cell_type": "markdown",
   "metadata": {},
   "source": [
    "The results show that the Communication category has the highest average at over 38M. This category is dominated by a few giants though such as Facebook Messenger, WhatsApp, and Skype."
   ]
  },
  {
   "cell_type": "code",
   "execution_count": 26,
   "metadata": {},
   "outputs": [
    {
     "name": "stdout",
     "output_type": "stream",
     "text": [
      "WhatsApp Messenger : 1,000,000,000+\n",
      "imo beta free calls and text : 100,000,000+\n",
      "Android Messages : 100,000,000+\n",
      "Google Duo - High Quality Video Calls : 500,000,000+\n",
      "Messenger – Text and Video Chat for Free : 1,000,000,000+\n",
      "imo free video calls and chat : 500,000,000+\n",
      "Skype - free IM & video calls : 1,000,000,000+\n",
      "Who : 100,000,000+\n",
      "GO SMS Pro - Messenger, Free Themes, Emoji : 100,000,000+\n",
      "LINE: Free Calls & Messages : 500,000,000+\n",
      "Google Chrome: Fast & Secure : 1,000,000,000+\n",
      "Firefox Browser fast & private : 100,000,000+\n",
      "UC Browser - Fast Download Private & Secure : 500,000,000+\n",
      "Gmail : 1,000,000,000+\n",
      "Hangouts : 1,000,000,000+\n",
      "Messenger Lite: Free Calls & Messages : 100,000,000+\n",
      "Kik : 100,000,000+\n",
      "KakaoTalk: Free Calls & Text : 100,000,000+\n",
      "Opera Mini - fast web browser : 100,000,000+\n",
      "Opera Browser: Fast and Secure : 100,000,000+\n",
      "Telegram : 100,000,000+\n",
      "Truecaller: Caller ID, SMS spam blocking & Dialer : 100,000,000+\n",
      "UC Browser Mini -Tiny Fast Private & Secure : 100,000,000+\n",
      "Viber Messenger : 500,000,000+\n",
      "WeChat : 100,000,000+\n",
      "Yahoo Mail – Stay Organized : 100,000,000+\n",
      "BBM - Free Calls & Messages : 100,000,000+\n"
     ]
    }
   ],
   "source": [
    "for app in android_final:\n",
    "    if app[1] == 'COMMUNICATION' and (app[5] == '1,000,000,000+'\n",
    "                                      or app[5] == '500,000,000+'\n",
    "                                      or app[5] == '100,000,000+'):\n",
    "        print(app[0], ':', app[5])"
   ]
  },
  {
   "cell_type": "markdown",
   "metadata": {},
   "source": [
    "Looking at some other categories, we see Social and Video Players are also quite popular. Again though these are categories with established market dominators such as Facebook, Instagram, Youtube, and Google Play Movies. Games is another promising category, but that market is very saturated and it's unlikely our app will get much notice in the noise.\n",
    "\n",
    "Since we looked at Reference in the App Store data, let's take a look at the Books and Reference category for Google Play. It has over 8M average installs, which is certainly not the highest, but is a notable amount. Let's see what the breakdown by app looks like:"
   ]
  },
  {
   "cell_type": "code",
   "execution_count": 27,
   "metadata": {},
   "outputs": [
    {
     "name": "stdout",
     "output_type": "stream",
     "text": [
      "E-Book Read - Read Book for free : 50,000+\n",
      "Download free book with green book : 100,000+\n",
      "Wikipedia : 10,000,000+\n",
      "Cool Reader : 10,000,000+\n",
      "Free Panda Radio Music : 100,000+\n",
      "Book store : 1,000,000+\n",
      "FBReader: Favorite Book Reader : 10,000,000+\n",
      "English Grammar Complete Handbook : 500,000+\n",
      "Free Books - Spirit Fanfiction and Stories : 1,000,000+\n",
      "Google Play Books : 1,000,000,000+\n",
      "AlReader -any text book reader : 5,000,000+\n",
      "Offline English Dictionary : 100,000+\n",
      "Offline: English to Tagalog Dictionary : 500,000+\n",
      "FamilySearch Tree : 1,000,000+\n",
      "Cloud of Books : 1,000,000+\n",
      "Recipes of Prophetic Medicine for free : 500,000+\n",
      "ReadEra – free ebook reader : 1,000,000+\n",
      "Anonymous caller detection : 10,000+\n",
      "Ebook Reader : 5,000,000+\n",
      "Litnet - E-books : 100,000+\n",
      "Read books online : 5,000,000+\n",
      "English to Urdu Dictionary : 500,000+\n",
      "eBoox: book reader fb2 epub zip : 1,000,000+\n",
      "English Persian Dictionary : 500,000+\n",
      "Flybook : 500,000+\n",
      "All Maths Formulas : 1,000,000+\n",
      "Ancestry : 5,000,000+\n",
      "HTC Help : 10,000,000+\n",
      "English translation from Bengali : 100,000+\n",
      "Pdf Book Download - Read Pdf Book : 100,000+\n",
      "Free Book Reader : 100,000+\n",
      "eBoox new: Reader for fb2 epub zip books : 50,000+\n",
      "Only 30 days in English, the guideline is guaranteed : 500,000+\n",
      "Moon+ Reader : 10,000,000+\n",
      "SH-02J Owner's Manual (Android 8.0) : 50,000+\n",
      "English-Myanmar Dictionary : 1,000,000+\n",
      "Golden Dictionary (EN-AR) : 1,000,000+\n",
      "All Language Translator Free : 1,000,000+\n",
      "Azpen eReader : 500,000+\n",
      "URBANO V 02 instruction manual : 100,000+\n",
      "Bible : 100,000,000+\n",
      "C Programs and Reference : 50,000+\n",
      "C Offline Tutorial : 1,000+\n",
      "C Programs Handbook : 50,000+\n",
      "Amazon Kindle : 100,000,000+\n",
      "Aab e Hayat Full Novel : 100,000+\n",
      "Aldiko Book Reader : 10,000,000+\n",
      "Google I/O 2018 : 500,000+\n",
      "R Language Reference Guide : 10,000+\n",
      "Learn R Programming Full : 5,000+\n",
      "R Programing Offline Tutorial : 1,000+\n",
      "Guide for R Programming : 5+\n",
      "Learn R Programming : 10+\n",
      "R Quick Reference Big Data : 1,000+\n",
      "V Made : 100,000+\n",
      "Wattpad 📖 Free Books : 100,000,000+\n",
      "Dictionary - WordWeb : 5,000,000+\n",
      "Guide (for X-MEN) : 100,000+\n",
      "AC Air condition Troubleshoot,Repair,Maintenance : 5,000+\n",
      "AE Bulletins : 1,000+\n",
      "Ae Allah na Dai (Rasa) : 10,000+\n",
      "50000 Free eBooks & Free AudioBooks : 5,000,000+\n",
      "Ag PhD Field Guide : 10,000+\n",
      "Ag PhD Deficiencies : 10,000+\n",
      "Ag PhD Planting Population Calculator : 1,000+\n",
      "Ag PhD Soybean Diseases : 1,000+\n",
      "Fertilizer Removal By Crop : 50,000+\n",
      "A-J Media Vault : 50+\n",
      "Al-Quran (Free) : 10,000,000+\n",
      "Al Quran (Tafsir & by Word) : 500,000+\n",
      "Al Quran Indonesia : 10,000,000+\n",
      "Al'Quran Bahasa Indonesia : 10,000,000+\n",
      "Al Quran Al karim : 1,000,000+\n",
      "Al-Muhaffiz : 50,000+\n",
      "Al Quran : EAlim - Translations & MP3 Offline : 5,000,000+\n",
      "Al-Quran 30 Juz free copies : 500,000+\n",
      "Koran Read &MP3 30 Juz Offline : 1,000,000+\n",
      "Hafizi Quran 15 lines per page : 1,000,000+\n",
      "Quran for Android : 10,000,000+\n",
      "Surah Al-Waqiah : 100,000+\n",
      "Hisnul Al Muslim - Hisn Invocations & Adhkaar : 100,000+\n",
      "Satellite AR : 1,000,000+\n",
      "Audiobooks from Audible : 100,000,000+\n",
      "Kinot & Eichah for Tisha B'Av : 10,000+\n",
      "AW Tozer Devotionals - Daily : 5,000+\n",
      "Tozer Devotional -Series 1 : 1,000+\n",
      "The Pursuit of God : 1,000+\n",
      "AY Sing : 5,000+\n",
      "Ay Hasnain k Nana Milad Naat : 10,000+\n",
      "Ay Mohabbat Teri Khatir Novel : 10,000+\n",
      "Arizona Statutes, ARS (AZ Law) : 1,000+\n",
      "Oxford A-Z of English Usage : 1,000,000+\n",
      "BD Fishpedia : 1,000+\n",
      "BD All Sim Offer : 10,000+\n",
      "Youboox - Livres, BD et magazines : 500,000+\n",
      "B&H Kids AR : 10,000+\n",
      "B y H Niños ES : 5,000+\n",
      "Dictionary.com: Find Definitions for English Words : 10,000,000+\n",
      "English Dictionary - Offline : 10,000,000+\n",
      "Bible KJV : 5,000,000+\n",
      "Borneo Bible, BM Bible : 10,000+\n",
      "MOD Black for BM : 100+\n",
      "BM Box : 1,000+\n",
      "Anime Mod for BM : 100+\n",
      "NOOK: Read eBooks & Magazines : 10,000,000+\n",
      "NOOK Audiobooks : 500,000+\n",
      "NOOK App for NOOK Devices : 500,000+\n",
      "Browsery by Barnes & Noble : 5,000+\n",
      "bp e-store : 1,000+\n",
      "Brilliant Quotes: Life, Love, Family & Motivation : 1,000,000+\n",
      "BR Ambedkar Biography & Quotes : 10,000+\n",
      "BU Alsace : 100+\n",
      "Catholic La Bu Zo Kam : 500+\n",
      "Khrifa Hla Bu (Solfa) : 10+\n",
      "Kristian Hla Bu : 10,000+\n",
      "SA HLA BU : 1,000+\n",
      "Learn SAP BW : 500+\n",
      "Learn SAP BW on HANA : 500+\n",
      "CA Laws 2018 (California Laws and Codes) : 5,000+\n",
      "Bootable Methods(USB-CD-DVD) : 10,000+\n",
      "cloudLibrary : 100,000+\n",
      "SDA Collegiate Quarterly : 500+\n",
      "Sabbath School : 100,000+\n",
      "Cypress College Library : 100+\n",
      "Stats Royale for Clash Royale : 1,000,000+\n",
      "GATE 21 years CS Papers(2011-2018 Solved) : 50+\n",
      "Learn CT Scan Of Head : 5,000+\n",
      "Easy Cv maker 2018 : 10,000+\n",
      "How to Write CV : 100,000+\n",
      "CW Nuclear : 1,000+\n",
      "CY Spray nozzle : 10+\n",
      "BibleRead En Cy Zh Yue : 5+\n",
      "CZ-Help : 5+\n",
      "Modlitební knížka CZ : 500+\n",
      "Guide for DB Xenoverse : 10,000+\n",
      "Guide for DB Xenoverse 2 : 10,000+\n",
      "Guide for IMS DB : 10+\n",
      "DC HSEMA : 5,000+\n",
      "DC Public Library : 1,000+\n",
      "Painting Lulu DC Super Friends : 1,000+\n",
      "Dictionary : 10,000,000+\n",
      "Fix Error Google Playstore : 1,000+\n",
      "D. H. Lawrence Poems FREE : 1,000+\n",
      "Bilingual Dictionary Audio App : 5,000+\n",
      "DM Screen : 10,000+\n",
      "wikiHow: how to do anything : 1,000,000+\n",
      "Dr. Doug's Tips : 1,000+\n",
      "Bible du Semeur-BDS (French) : 50,000+\n",
      "La citadelle du musulman : 50,000+\n",
      "DV 2019 Entry Guide : 10,000+\n",
      "DV 2019 - EDV Photo & Form : 50,000+\n",
      "DV 2018 Winners Guide : 1,000+\n",
      "EB Annual Meetings : 1,000+\n",
      "EC - AP & Telangana : 5,000+\n",
      "TN Patta Citta & EC : 10,000+\n",
      "AP Stamps and Registration : 10,000+\n",
      "CompactiMa EC pH Calibration : 100+\n",
      "EGW Writings 2 : 100,000+\n",
      "EGW Writings : 1,000,000+\n",
      "Bible with EGW Comments : 100,000+\n",
      "My Little Pony AR Guide : 1,000,000+\n",
      "SDA Sabbath School Quarterly : 500,000+\n",
      "Duaa Ek Ibaadat : 5,000+\n",
      "Spanish English Translator : 10,000,000+\n",
      "Dictionary - Merriam-Webster : 10,000,000+\n",
      "JW Library : 10,000,000+\n",
      "Oxford Dictionary of English : Free : 10,000,000+\n",
      "English Hindi Dictionary : 10,000,000+\n",
      "English to Hindi Dictionary : 5,000,000+\n",
      "EP Research Service : 1,000+\n",
      "Hymnes et Louanges : 100,000+\n",
      "EU Charter : 1,000+\n",
      "EU Data Protection : 1,000+\n",
      "EU IP Codes : 100+\n",
      "EW PDF : 5+\n",
      "BakaReader EX : 100,000+\n",
      "EZ Quran : 50,000+\n",
      "FA Part 1 & 2 Past Papers Solved Free – Offline : 5,000+\n",
      "La Fe de Jesus : 1,000+\n",
      "La Fe de Jesús : 500+\n",
      "Le Fe de Jesus : 500+\n",
      "Florida - Pocket Brainbook : 1,000+\n",
      "Florida Statutes (FL Code) : 1,000+\n",
      "English To Shona Dictionary : 10,000+\n",
      "Greek Bible FP (Audio) : 1,000+\n",
      "Golden Dictionary (FR-AR) : 500,000+\n",
      "Fanfic-FR : 5,000+\n",
      "Bulgarian French Dictionary Fr : 10,000+\n",
      "Chemin (fr) : 1,000+\n",
      "The SCP Foundation DB fr nn5n : 1,000+\n"
     ]
    }
   ],
   "source": [
    "for app in android_final:\n",
    "    if app[1] == 'BOOKS_AND_REFERENCE':\n",
    "        print(app[0], ':', app[5])"
   ]
  },
  {
   "cell_type": "markdown",
   "metadata": {},
   "source": [
    "There are a few major leaders in this category such as Google Play Books, Bible, and Kindle. If we take out these top apps, we can get a better picture of what's popular among this category:"
   ]
  },
  {
   "cell_type": "code",
   "execution_count": 28,
   "metadata": {},
   "outputs": [
    {
     "name": "stdout",
     "output_type": "stream",
     "text": [
      "Wikipedia : 10,000,000+\n",
      "Cool Reader : 10,000,000+\n",
      "Book store : 1,000,000+\n",
      "FBReader: Favorite Book Reader : 10,000,000+\n",
      "Free Books - Spirit Fanfiction and Stories : 1,000,000+\n",
      "AlReader -any text book reader : 5,000,000+\n",
      "FamilySearch Tree : 1,000,000+\n",
      "Cloud of Books : 1,000,000+\n",
      "ReadEra – free ebook reader : 1,000,000+\n",
      "Ebook Reader : 5,000,000+\n",
      "Read books online : 5,000,000+\n",
      "eBoox: book reader fb2 epub zip : 1,000,000+\n",
      "All Maths Formulas : 1,000,000+\n",
      "Ancestry : 5,000,000+\n",
      "HTC Help : 10,000,000+\n",
      "Moon+ Reader : 10,000,000+\n",
      "English-Myanmar Dictionary : 1,000,000+\n",
      "Golden Dictionary (EN-AR) : 1,000,000+\n",
      "All Language Translator Free : 1,000,000+\n",
      "Aldiko Book Reader : 10,000,000+\n",
      "Dictionary - WordWeb : 5,000,000+\n",
      "50000 Free eBooks & Free AudioBooks : 5,000,000+\n",
      "Al-Quran (Free) : 10,000,000+\n",
      "Al Quran Indonesia : 10,000,000+\n",
      "Al'Quran Bahasa Indonesia : 10,000,000+\n",
      "Al Quran Al karim : 1,000,000+\n",
      "Al Quran : EAlim - Translations & MP3 Offline : 5,000,000+\n",
      "Koran Read &MP3 30 Juz Offline : 1,000,000+\n",
      "Hafizi Quran 15 lines per page : 1,000,000+\n",
      "Quran for Android : 10,000,000+\n",
      "Satellite AR : 1,000,000+\n",
      "Oxford A-Z of English Usage : 1,000,000+\n",
      "Dictionary.com: Find Definitions for English Words : 10,000,000+\n",
      "English Dictionary - Offline : 10,000,000+\n",
      "Bible KJV : 5,000,000+\n",
      "NOOK: Read eBooks & Magazines : 10,000,000+\n",
      "Brilliant Quotes: Life, Love, Family & Motivation : 1,000,000+\n",
      "Stats Royale for Clash Royale : 1,000,000+\n",
      "Dictionary : 10,000,000+\n",
      "wikiHow: how to do anything : 1,000,000+\n",
      "EGW Writings : 1,000,000+\n",
      "My Little Pony AR Guide : 1,000,000+\n",
      "Spanish English Translator : 10,000,000+\n",
      "Dictionary - Merriam-Webster : 10,000,000+\n",
      "JW Library : 10,000,000+\n",
      "Oxford Dictionary of English : Free : 10,000,000+\n",
      "English Hindi Dictionary : 10,000,000+\n",
      "English to Hindi Dictionary : 5,000,000+\n"
     ]
    }
   ],
   "source": [
    "for app in android_final:\n",
    "    if app[1] == 'BOOKS_AND_REFERENCE' and (app[5] == '1,000,000+'\n",
    "                                            or app[5] == '5,000,000+'\n",
    "                                            or app[5] == '10,000,000+'\n",
    "                                            or app[5] == '50,000,000+'):\n",
    "        print(app[0], ':', app[5])"
   ]
  },
  {
   "cell_type": "markdown",
   "metadata": {},
   "source": [
    "There's quite a few moderately popular apps. Examining the names shows that most of them are some type of collection, processors, or readers rather than specific books. As with the App Store data, this category shows potential for a specific book app that contains features offered by some of the more popular apps in this category."
   ]
  },
  {
   "cell_type": "markdown",
   "metadata": {},
   "source": [
    "-------"
   ]
  },
  {
   "cell_type": "markdown",
   "metadata": {},
   "source": [
    "## Conclusion\n",
    "\n",
    "This project consisted of collecting and analyzing app data for Google Play and the Apple App Store to determine a potential app profile and market for our company.\n",
    "\n",
    "Alot of steps were taken to clean the data and target our analysis to comparable apps. This included constraints to only free and English language apps. Once our data was clean, we determined popular genres by examining number of apps and average number of installs.\n",
    "\n",
    "Our findings showed the most popular categories for each market which included Social Networking, Games, and Reference genres. Among these, we determined the potential categories we primarily dominated with well-established market leaders such as Facebook, Youtube, and Google's suite of apps.\n",
    "\n",
    "The Reference category showed potential within both markets though. There are a few market leaders such as the Bible and Kindle. However most of the popular apps in this category are readers or processors, not actual reference materials.\n",
    "\n",
    "The recommendation from these findings is that the company create an app for a specific book or popular piece of reference material. Beyond the text though, the app should include additional features such as audio files, trivia, built-in dictionary, or even forums. An example app could be one designed around research topics for college students."
   ]
  }
 ],
 "metadata": {
  "kernelspec": {
   "display_name": "Python 3",
   "language": "python",
   "name": "python3"
  },
  "language_info": {
   "codemirror_mode": {
    "name": "ipython",
    "version": 3
   },
   "file_extension": ".py",
   "mimetype": "text/x-python",
   "name": "python",
   "nbconvert_exporter": "python",
   "pygments_lexer": "ipython3",
   "version": "3.7.4"
  }
 },
 "nbformat": 4,
 "nbformat_minor": 2
}
